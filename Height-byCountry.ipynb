{
 "cells": [
  {
   "cell_type": "markdown",
   "metadata": {},
   "source": [
    "# Project Height by Country 2022"
   ]
  },
  {
   "cell_type": "code",
   "execution_count": 1,
   "metadata": {},
   "outputs": [],
   "source": [
    "import numpy as np\n",
    "import matplotlib.pyplot as plt\n",
    "import pandas as pd\n",
    "import seaborn as sns"
   ]
  },
  {
   "cell_type": "code",
   "execution_count": 2,
   "metadata": {},
   "outputs": [
    {
     "name": "stdout",
     "output_type": "stream",
     "text": [
      "             Country Name  Male Height in Cm  Female Height in Cm\n",
      "0             Netherlands             183.78               170.36\n",
      "1              Montenegro             183.30               169.96\n",
      "2                 Estonia             182.79               168.66\n",
      "3  Bosnia and Herzegovina             182.47               167.47\n",
      "4                 Iceland             182.10               168.91\n"
     ]
    }
   ],
   "source": [
    "data = pd.read_csv(\"D:\\Projetos\\Height-byCountry2022\\Height of Male and Female by Country 2022.csv\", usecols = [1,2,3])\n",
    "print(data.head())"
   ]
  },
  {
   "cell_type": "code",
   "execution_count": 3,
   "metadata": {},
   "outputs": [
    {
     "name": "stdout",
     "output_type": "stream",
     "text": [
      "[183.78 183.3  182.79 182.47 182.1  181.89 181.19 181.17 181.02 180.98\n",
      " 180.98 180.76 180.74 180.72 180.69 180.57 180.48 180.46 180.28 180.15\n",
      " 179.72 179.48 179.26 179.09 179.04 178.96 178.84 178.84 178.77 178.75\n",
      " 178.73 178.7  178.69 178.6  178.52 178.46 178.32 178.32 178.21 177.82\n",
      " 177.72 177.49 177.19 177.09 177.03 176.97 176.94 176.85 176.65 176.59\n",
      " 176.43 176.43 176.39 176.36 176.35 176.18 176.11 176.06 176.03 175.98\n",
      " 175.98 175.9  175.73 175.66 175.62 175.59 175.52 175.5  175.11 175.05\n",
      " 175.04 175.02 174.96 174.84 174.83 174.76 174.69 174.65 174.57 174.51\n",
      " 174.42 174.42 174.4  174.38 174.37 174.37 174.32 174.17 174.08 174.07\n",
      " 174.04 174.   173.98 173.84 173.81 173.79 173.71 173.67 173.56 173.53\n",
      " 173.53 173.5  173.27 173.16 173.01 172.88 172.76 172.75 172.23 172.15\n",
      " 172.13 172.07 172.06 171.89 171.85 171.84 171.7  171.66 171.64 171.61\n",
      " 171.55 171.3  171.23 171.22 170.94 170.77 170.7  170.69 170.67 170.67\n",
      " 170.67 170.62 170.6  170.52 170.48 170.46 170.37 170.3  170.29 170.26\n",
      " 170.19 170.14 170.09 169.91 169.75 169.63 169.59 169.57 169.57 169.41\n",
      " 169.2  169.01 168.89 168.84 168.74 168.6  168.5  168.46 168.44 168.43\n",
      " 168.36 168.29 168.23 168.18 168.17 168.1  168.07 167.92 167.87 167.72\n",
      " 167.62 167.34 167.33 167.32 167.05 166.98 166.75 166.7  166.5  166.43\n",
      " 166.31 166.26 166.02 165.68 165.54 165.48 165.35 165.26 165.23 165.16\n",
      " 165.08 164.42 164.36 164.36 164.3  163.1  163.07 162.78 160.13]\n"
     ]
    }
   ],
   "source": [
    "ht = np.array(data[\"Male Height in Cm\"]) #Only the Height of males in CM\n",
    "print(ht)"
   ]
  },
  {
   "cell_type": "code",
   "execution_count": 4,
   "metadata": {},
   "outputs": [
    {
     "name": "stdout",
     "output_type": "stream",
     "text": [
      "Mean of heights =  173.08904522613065\n",
      "Standard Deviantion of height =  4.937379789818621\n",
      "Minimum Height =  160.13\n",
      "Maximum Height =  183.78\n"
     ]
    }
   ],
   "source": [
    "print(\"Mean of heights = \", ht.mean()) # average\n",
    "print(\"Standard Deviantion of height = \", ht.std())\n",
    "print(\"Minimum Height = \", ht.min())\n",
    "print(\"Maximum Height = \", ht.max())"
   ]
  },
  {
   "cell_type": "code",
   "execution_count": 5,
   "metadata": {},
   "outputs": [
    {
     "name": "stdout",
     "output_type": "stream",
     "text": [
      "25th percentile =  169.49\n",
      "Median =  173.53\n",
      "Mean =  173.08904522613065\n",
      "75th percentile =  176.51\n"
     ]
    }
   ],
   "source": [
    "print(\"25th percentile = \", np.percentile(ht,25))\n",
    "print(\"Median = \", np.median(ht)) # middle value\n",
    "print(\"Mean = \", np.mean(ht)) # average\n",
    "print(\"75th percentile = \", np.percentile(ht,75))"
   ]
  },
  {
   "cell_type": "code",
   "execution_count": 6,
   "metadata": {},
   "outputs": [
    {
     "data": {
      "image/png": "[encoded data removed]",
      "text/plain": [
       "<Figure size 640x480 with 1 Axes>"
      ]
     },
     "metadata": {},
     "output_type": "display_data"
    }
   ],
   "source": [
    "plt.hist(ht) # Histogram - frequency distribution\n",
    "plt.title(\"Height Distribution Male (2022)\")\n",
    "plt.xlabel(\"Male Height in Cm\")\n",
    "plt.ylabel(\"Number\")\n",
    "plt.show()"
   ]
  }
 ],
 "metadata": {
  "kernelspec": {
   "display_name": "Python 3.10.8 64-bit (microsoft store)",
   "language": "python",
   "name": "python3"
  },
  "language_info": {
   "codemirror_mode": {
    "name": "ipython",
    "version": 3
   },
   "file_extension": ".py",
   "mimetype": "text/x-python",
   "name": "python",
   "nbconvert_exporter": "python",
   "pygments_lexer": "ipython3",
   "version": "3.10.8"
  },
  "orig_nbformat": 4,
  "vscode": {
   "interpreter": {
    "hash": "e01af327004d5c2acc1513ae4a45ddf8ceb9345bea5a5d22b5a6c96746da2237"
   }
  }
 },
 "nbformat": 4,
 "nbformat_minor": 2
}
